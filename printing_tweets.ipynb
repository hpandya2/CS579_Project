{
 "cells": [
  {
   "cell_type": "code",
   "execution_count": 15,
   "metadata": {
    "collapsed": false
   },
   "outputs": [],
   "source": [
    "from collections import Counter\n",
    "import ConfigParser\n",
    "import matplotlib.pyplot as plt\n",
    "import networkx as nx\n",
    "import sys\n",
    "import time\n",
    "from TwitterAPI import TwitterAPI\n",
    "import pickle \n",
    "import re \n",
    "from collections import defaultdict\n",
    "import datetime\n",
    "import codecs"
   ]
  },
  {
   "cell_type": "code",
   "execution_count": 16,
   "metadata": {
    "collapsed": false
   },
   "outputs": [
    {
     "name": "stdout",
     "output_type": "stream",
     "text": [
      "Established Twitter connection.\n"
     ]
    }
   ],
   "source": [
    "# This method is done for you. Make sure to put your credentials in twitter.cfg.\n",
    "def get_twitter(config_file):\n",
    "    \"\"\" Read the config_file and construct an instance of TwitterAPI.\n",
    "    Args:\n",
    "      config_file ... A config file in ConfigParser format with Twitter credentials\n",
    "    Returns:\n",
    "      An instance of TwitterAPI.\n",
    "    \"\"\"\n",
    "    config = ConfigParser.ConfigParser()\n",
    "    config.read(config_file)\n",
    "    twitter = TwitterAPI(\n",
    "                   config.get('twitter', 'consumer_key'),\n",
    "                   config.get('twitter', 'consumer_secret'),\n",
    "                   config.get('twitter', 'access_token'),\n",
    "                   config.get('twitter', 'access_token_secret'))\n",
    "    return twitter\n",
    "\n",
    "twitter = get_twitter('twitter.cfg')\n",
    "print('Established Twitter connection.')"
   ]
  },
  {
   "cell_type": "code",
   "execution_count": 17,
   "metadata": {
    "collapsed": true
   },
   "outputs": [],
   "source": [
    "def robust_request(twitter, resource, params, max_tries=5):\n",
    "    \"\"\" If a Twitter request fails, sleep for 15 minutes.\n",
    "    Do this at most max_tries times before quitting.\n",
    "    Args:\n",
    "      twitter .... A TwitterAPI object.\n",
    "      resource ... A resource string to request.\n",
    "      params ..... A parameter dictionary for the request.\n",
    "      max_tries .. The maximum number of tries to attempt.\n",
    "    Returns:\n",
    "      A TwitterResponse object, or None if failed.\n",
    "    \"\"\"\n",
    "    for i in range(max_tries):\n",
    "        request = twitter.request(resource, params)\n",
    "        if request.status_code == 200:\n",
    "            return request\n",
    "        else:\n",
    "            print >> sys.stderr, 'Got error:', request.text, '\\nsleeping for 15 minutes.'\n",
    "            sys.stderr.flush()\n",
    "            time.sleep(61 * 15)\n",
    " "
   ]
  },
  {
   "cell_type": "code",
   "execution_count": 18,
   "metadata": {
    "collapsed": true
   },
   "outputs": [],
   "source": [
    "def get_followers():\n",
    "    followers = []\n",
    "    f = open ('iit_followers.txt','rb')\n",
    "    regexp = re.compile(r'p\\d+')\n",
    "    for line in f:\n",
    "        if regexp.search(str(line)) is not None:\n",
    "            continue\n",
    "        else: \n",
    "            if line.startswith('aV'):\n",
    "                line = line[2:]\n",
    "                followers.append(line.replace(\"\\n\",\"\"))\n",
    "    followers.sort()\n",
    "    return followers\n",
    "\n",
    "followers_list = get_followers()"
   ]
  },
  {
   "cell_type": "code",
   "execution_count": null,
   "metadata": {
    "collapsed": false,
    "scrolled": false
   },
   "outputs": [
    {
     "name": "stderr",
     "output_type": "stream",
     "text": [
      "Got error: {\"request\":\"\\/1.1\\/statuses\\/user_timeline.json\",\"error\":\"Not authorized.\"} \n",
      "sleeping for 15 minutes.\n",
      "Got error: {\"request\":\"\\/1.1\\/statuses\\/user_timeline.json\",\"error\":\"Not authorized.\"} \n",
      "sleeping for 15 minutes.\n",
      "Got error: {\"request\":\"\\/1.1\\/statuses\\/user_timeline.json\",\"error\":\"Not authorized.\"} \n",
      "sleeping for 15 minutes.\n"
     ]
    }
   ],
   "source": [
    "def print_tweets(outputfile,follower_index):\n",
    "    tweets = 0\n",
    "    f = codecs.open(outputfile,'a','utf-8')\n",
    "    print 'opened file named' , outputfile\n",
    "    followers = get_followers()[follower_index:]\n",
    "    for follower in followers:\n",
    "        request = robust_request(twitter,'statuses/user_timeline',{'screen_name': follower})\n",
    "        if request == None:\n",
    "            print \"request is None type object\"\n",
    "            continue\n",
    "        if request.status_code == 401:\n",
    "            print 'Unauthorized data access. The user does not have access to such information'\n",
    "            continue\n",
    "        else:\n",
    "            if tweets <= 5000:\n",
    "                f.write(follower + \":\\n\")\n",
    "                for tweet in request:\n",
    "                    if tweet is not None:\n",
    "                        f.write('\\t'+ (tweet['text']) + '\\n')\n",
    "            else:\n",
    "                f.write(\"Reached 5000 tweets limit. End of file\")\n",
    "                timestamp = datetime.datetime.fromtimestamp(time.time()).strftime('%Y-%m-%d %H:%M:%S')\n",
    "                newfile = 'outputfile' + timestamp + '.txt'\n",
    "                print 'calling new file name', newfile\n",
    "                print_tweets(newfile,followers.index(follower))\n",
    "        \n",
    "\n",
    "outputfile = 'outputfile'+ datetime.datetime.fromtimestamp(time.time()).strftime('%Y-%m-%d %H:%M:%S')+ '.txt'\n",
    "print_tweets(outputfile,0)\n",
    "print 'End of collecting tweets of followers'"
   ]
  },
  {
   "cell_type": "code",
   "execution_count": null,
   "metadata": {
    "collapsed": true
   },
   "outputs": [],
   "source": []
  }
 ],
 "metadata": {
  "kernelspec": {
   "display_name": "Python 2",
   "language": "python",
   "name": "python2"
  },
  "language_info": {
   "codemirror_mode": {
    "name": "ipython",
    "version": 2
   },
   "file_extension": ".py",
   "mimetype": "text/x-python",
   "name": "python",
   "nbconvert_exporter": "python",
   "pygments_lexer": "ipython2",
   "version": "2.7.6"
  }
 },
 "nbformat": 4,
 "nbformat_minor": 0
}
