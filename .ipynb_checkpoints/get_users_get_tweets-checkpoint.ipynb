{
 "cells": [
  {
   "cell_type": "code",
   "execution_count": 2,
   "metadata": {
    "collapsed": false
   },
   "outputs": [],
   "source": [
    "from collections import Counter\n",
    "import ConfigParser\n",
    "import matplotlib.pyplot as plt\n",
    "import networkx as nx\n",
    "import sys\n",
    "import time\n",
    "from TwitterAPI import TwitterAPI\n",
    "import pickle \n",
    "import re \n",
    "from collections import defaultdict\n",
    "import datetime\n",
    "import codecs"
   ]
  },
  {
   "cell_type": "code",
   "execution_count": 3,
   "metadata": {
    "collapsed": false
   },
   "outputs": [
    {
     "name": "stdout",
     "output_type": "stream",
     "text": [
      "Established Twitter connection.\n"
     ]
    }
   ],
   "source": [
    "# This method is done for you. Make sure to put your credentials in twitter.cfg.\n",
    "def get_twitter(config_file):\n",
    "    \"\"\" Read the config_file and construct an instance of TwitterAPI.\n",
    "    Args:\n",
    "      config_file ... A config file in ConfigParser format with Twitter credentials\n",
    "    Returns:\n",
    "      An instance of TwitterAPI.\n",
    "    \"\"\"\n",
    "    config = ConfigParser.ConfigParser()\n",
    "    config.read(config_file)\n",
    "    twitter = TwitterAPI(\n",
    "                   config.get('twitter', 'consumer_key'),\n",
    "                   config.get('twitter', 'consumer_secret'),\n",
    "                   config.get('twitter', 'access_token'),\n",
    "                   config.get('twitter', 'access_token_secret'))\n",
    "    return twitter\n",
    "\n",
    "twitter = get_twitter('twitter.cfg')\n",
    "print('Established Twitter connection.')"
   ]
  },
  {
   "cell_type": "code",
   "execution_count": 4,
   "metadata": {
    "collapsed": true
   },
   "outputs": [],
   "source": [
    "def robust_request(twitter, resource, params, max_tries=5):\n",
    "    \"\"\" If a Twitter request fails, sleep for 15 minutes.\n",
    "    Do this at most max_tries times before quitting.\n",
    "    Args:\n",
    "      twitter .... A TwitterAPI object.\n",
    "      resource ... A resource string to request.\n",
    "      params ..... A parameter dictionary for the request.\n",
    "      max_tries .. The maximum number of tries to attempt.\n",
    "    Returns:\n",
    "      A TwitterResponse object, or None if failed.\n",
    "    \"\"\"\n",
    "    for i in range(max_tries):\n",
    "        request = twitter.request(resource, params)\n",
    "        if request is None:\n",
    "            print 'Found None object'\n",
    "            break\n",
    "        if request.status_code == 401:\n",
    "            print 'Unauthorized data access. The user does not have access to such information'\n",
    "            break\n",
    "#         elif \"page does not exist\" in request.text:\n",
    "#             print 'page does not exist'\n",
    "#             break\n",
    "        elif request.status_code == 200:\n",
    "            return request\n",
    "        else:\n",
    "            print >> sys.stderr, 'Got error:', request.text, '\\nsleeping for 1 minutes.'\n",
    "            sys.stderr.flush()\n",
    "            time.sleep(61 * 1)"
   ]
  },
  {
   "cell_type": "code",
   "execution_count": 5,
   "metadata": {
    "collapsed": false,
    "scrolled": true
   },
   "outputs": [],
   "source": [
    "def get_followers():\n",
    "    followers = []\n",
    "    f = open ('iit_followers.txt','rb')\n",
    "    regexp = re.compile(r'p\\d+')\n",
    "    for line in f:\n",
    "        if regexp.search(str(line)) is not None:\n",
    "            continue\n",
    "        else: \n",
    "            if line.startswith('aV'):\n",
    "                line = line[2:]\n",
    "                followers.append(line.replace(\"\\n\",\"\"))\n",
    "    followers.sort()\n",
    "    return followers\n",
    "\n",
    "followers_list = get_followers()\n",
    "#print followers_list"
   ]
  },
  {
   "cell_type": "code",
   "execution_count": 6,
   "metadata": {
    "collapsed": true
   },
   "outputs": [],
   "source": [
    "userInfo = twitter.request('users/lookup', {'screen_name': followers_list[:100]})"
   ]
  },
  {
   "cell_type": "code",
   "execution_count": 7,
   "metadata": {
    "collapsed": false,
    "scrolled": true
   },
   "outputs": [
    {
     "name": "stdout",
     "output_type": "stream",
     "text": [
      "processed 100 users...\n",
      "processed 100 users...\n",
      "processed 100 users...\n",
      "processed 100 users...\n",
      "processed 100 users...\n",
      "processed 100 users...\n",
      "processed 100 users...\n",
      "processed 100 users...\n",
      "processed 100 users...\n",
      "processed 100 users...\n",
      "processed 100 users...\n",
      "processed 100 users...\n",
      "processed 100 users...\n",
      "processed 100 users...\n",
      "processed 100 users...\n",
      "processed 100 users...\n",
      "processed 100 users...\n",
      "processed 100 users...\n",
      "processed 100 users...\n",
      "processed 100 users...\n",
      "processed 100 users...\n",
      "processed 100 users...\n",
      "processed 100 users...\n",
      "processed 100 users...\n",
      "processed 100 users...\n",
      "processed 100 users...\n",
      "processed 100 users...\n",
      "processed 100 users...\n",
      "processed 100 users...\n",
      "processed 100 users...\n",
      "processed 100 users...\n",
      "processed 100 users...\n",
      "processed 100 users...\n",
      "processed 100 users...\n",
      "processed 100 users...\n",
      "processed 100 users...\n",
      "processed 100 users...\n",
      "processed 100 users...\n",
      "processed 100 users...\n",
      "processed 100 users...\n",
      "processed 100 users...\n",
      "processed 100 users...\n",
      "processed 100 users...\n",
      "processed 100 users...\n",
      "processed 100 users...\n",
      "processed 100 users...\n",
      "processed 100 users...\n",
      "processed 100 users...\n",
      "processed 100 users...\n",
      "processed 100 users...\n",
      "processed 100 users...\n",
      "processed 100 users...\n",
      "processed 100 users...\n",
      "processed 100 users...\n",
      "processed 100 users...\n",
      "processed 100 users...\n",
      "processed 100 users...\n",
      "processed 100 users...\n",
      "processed 100 users...\n",
      "processed 100 users...\n",
      "processed 100 users...\n",
      "processed 100 users...\n",
      "processed 100 users...\n",
      "processed 100 users...\n",
      "processed 100 users...\n",
      "done\n",
      "6480\n"
     ]
    }
   ],
   "source": [
    "#get first 100 user IDs\n",
    "userIds = []\n",
    "startIndex = 0\n",
    "endIndex = 100\n",
    "while endIndex < len(followers_list):\n",
    "    userInfo = twitter.request('users/lookup', {'screen_name': followers_list[startIndex:endIndex]})\n",
    "    for user in userInfo:\n",
    "        userIds.append(user['id'])\n",
    "    startIndex += 100\n",
    "    endIndex += 100\n",
    "    print 'processed 100 users...'\n",
    "print 'done'\n",
    "print len(userIds)"
   ]
  },
  {
   "cell_type": "code",
   "execution_count": 16,
   "metadata": {
    "collapsed": false,
    "scrolled": true
   },
   "outputs": [
    {
     "name": "stdout",
     "output_type": "stream",
     "text": [
      "2885816063\n"
     ]
    }
   ],
   "source": [
    "userInfo = twitter.request('users/lookup', {'screen_name': 'hpandya2_pa'})\n",
    "for user in userInfo:\n",
    "    userIds.insert(0, user['id'])\n",
    "    print user['id']"
   ]
  },
  {
   "cell_type": "code",
   "execution_count": 8,
   "metadata": {
    "collapsed": false
   },
   "outputs": [
    {
     "name": "stdout",
     "output_type": "stream",
     "text": [
      "[2958842221, 548263433, 3228267492, 476820795, 3397863503, 3158504957, 2786277625, 454864520, 117805662, 255609739]\n",
      "3778\n"
     ]
    }
   ],
   "source": [
    "print userIds[:10]\n",
    "print followers_list.index('ceoshea773')"
   ]
  },
  {
   "cell_type": "code",
   "execution_count": 36,
   "metadata": {
    "collapsed": false,
    "scrolled": false
   },
   "outputs": [
    {
     "name": "stdout",
     "output_type": "stream",
     "text": [
      "in get_users()\n",
      "starting collection!!! :)\n",
      "dumped tweet to file\n",
      "dumped tweet to file\n",
      "dumped tweet to file\n",
      "dumped tweet to file\n",
      "dumped tweet to file\n",
      "dumped tweet to file\n",
      "dumped tweet to file\n",
      "dumped tweet to file\n",
      "dumped tweet to file\n",
      "dumped tweet to file\n",
      "dumped tweet to file\n",
      "dumped tweet to file\n",
      "dumped tweet to file\n",
      "dumped tweet to file\n",
      "dumped tweet to file\n",
      "dumped tweet to file\n",
      "dumped tweet to file\n",
      "dumped tweet to file\n",
      "dumped tweet to file\n",
      "dumped tweet to file\n",
      "dumped tweet to file\n",
      "dumped tweet to file\n",
      "dumped tweet to file\n",
      "dumped tweet to file\n",
      "dumped tweet to file\n",
      "dumped tweet to file\n",
      "dumped tweet to file\n",
      "dumped tweet to file\n",
      "dumped tweet to file\n",
      "dumped tweet to file\n",
      "dumped tweet to file\n",
      "dumped tweet to file\n",
      "dumped tweet to file\n",
      "dumped tweet to file\n",
      "dumped tweet to file\n",
      "dumped tweet to file\n",
      "dumped tweet to file\n",
      "dumped tweet to file\n",
      "dumped tweet to file\n",
      "dumped tweet to file\n",
      "dumped tweet to file\n",
      "dumped tweet to file\n",
      "dumped tweet to file\n",
      "dumped tweet to file\n",
      "dumped tweet to file\n",
      "dumped tweet to file\n",
      "dumped tweet to file\n",
      "dumped tweet to file\n",
      "dumped tweet to file\n",
      "dumped tweet to file\n",
      "dumped tweet to file\n",
      "dumped tweet to file\n",
      "dumped tweet to file\n",
      "dumped tweet to file\n",
      "dumped tweet to file\n",
      "dumped tweet to file\n",
      "dumped tweet to file\n",
      "dumped tweet to file\n",
      "dumped tweet to file\n",
      "dumped tweet to file\n",
      "dumped tweet to file\n",
      "dumped tweet to file\n",
      "dumped tweet to file\n",
      "dumped tweet to file\n",
      "dumped tweet to file\n",
      "dumped tweet to file\n",
      "dumped tweet to file\n",
      "dumped tweet to file\n",
      "dumped tweet to file\n",
      "dumped tweet to file\n",
      "dumped tweet to file\n",
      "dumped tweet to file\n",
      "dumped tweet to file\n",
      "dumped tweet to file\n",
      "dumped tweet to file\n",
      "dumped tweet to file\n",
      "dumped tweet to file\n",
      "dumped tweet to file\n",
      "dumped tweet to file\n",
      "dumped tweet to file\n",
      "dumped tweet to file\n",
      "dumped tweet to file\n",
      "dumped tweet to file\n",
      "dumped tweet to file\n",
      "dumped tweet to file\n",
      "dumped tweet to file\n",
      "dumped tweet to file\n",
      "dumped tweet to file\n",
      "dumped tweet to file\n",
      "dumped tweet to file\n",
      "dumped tweet to file\n",
      "dumped tweet to file\n",
      "dumped tweet to file\n",
      "dumped tweet to file\n",
      "dumped tweet to file\n",
      "dumped tweet to file\n",
      "dumped tweet to file\n",
      "dumped tweet to file\n",
      "dumped tweet to file\n",
      "dumped tweet to file\n",
      "dumped tweet to file\n",
      "dumped tweet to file\n",
      "dumped tweet to file\n",
      "dumped tweet to file\n",
      "dumped tweet to file\n",
      "dumped tweet to file\n",
      "dumped tweet to file\n",
      "dumped tweet to file\n",
      "dumped tweet to file\n",
      "dumped tweet to file\n",
      "dumped tweet to file\n",
      "dumped tweet to file\n",
      "dumped tweet to file\n",
      "dumped tweet to file\n",
      "dumped tweet to file\n",
      "dumped tweet to file\n",
      "dumped tweet to file\n",
      "dumped tweet to file\n",
      "dumped tweet to file\n",
      "dumped tweet to file\n",
      "dumped tweet to file\n",
      "dumped tweet to file\n",
      "dumped tweet to file\n",
      "dumped tweet to file\n",
      "dumped tweet to file\n",
      "dumped tweet to file\n",
      "dumped tweet to file\n",
      "dumped tweet to file\n",
      "dumped tweet to file\n",
      "dumped tweet to file\n",
      "dumped tweet to file\n",
      "dumped tweet to file\n",
      "dumped tweet to file\n",
      "dumped tweet to file\n",
      "dumped tweet to file\n",
      "dumped tweet to file\n"
     ]
    },
    {
     "name": "stderr",
     "output_type": "stream",
     "text": [
      " Got error: (sleeping for 60 seconds...)"
     ]
    },
    {
     "ename": "KeyboardInterrupt",
     "evalue": "",
     "output_type": "error",
     "traceback": [
      "\u001b[0;31m---------------------------------------------------------------------------\u001b[0m",
      "\u001b[0;31mKeyboardInterrupt\u001b[0m                         Traceback (most recent call last)",
      "\u001b[0;32m<ipython-input-36-ab1c72303616>\u001b[0m in \u001b[0;36m<module>\u001b[0;34m()\u001b[0m\n\u001b[1;32m     30\u001b[0m \u001b[0;34m\u001b[0m\u001b[0m\n\u001b[1;32m     31\u001b[0m \u001b[0;34m\u001b[0m\u001b[0m\n\u001b[0;32m---> 32\u001b[0;31m \u001b[0mget_users\u001b[0m\u001b[0;34m(\u001b[0m\u001b[0;34m)\u001b[0m\u001b[0;34m\u001b[0m\u001b[0m\n\u001b[0m",
      "\u001b[0;32m<ipython-input-36-ab1c72303616>\u001b[0m in \u001b[0;36mget_users\u001b[0;34m()\u001b[0m\n\u001b[1;32m     25\u001b[0m                     \u001b[0mnewfile\u001b[0m \u001b[0;34m=\u001b[0m \u001b[0;34m'streaming_user_tweets_'\u001b[0m \u001b[0;34m+\u001b[0m \u001b[0mtimestamp\u001b[0m \u001b[0;34m+\u001b[0m \u001b[0;34m'.txt'\u001b[0m\u001b[0;34m\u001b[0m\u001b[0m\n\u001b[1;32m     26\u001b[0m         \u001b[0;32mexcept\u001b[0m\u001b[0;34m:\u001b[0m\u001b[0;34m\u001b[0m\u001b[0m\n\u001b[0;32m---> 27\u001b[0;31m             \u001b[0;32mprint\u001b[0m \u001b[0;34m>>\u001b[0m \u001b[0msys\u001b[0m\u001b[0;34m.\u001b[0m\u001b[0mstderr\u001b[0m\u001b[0;34m,\u001b[0m \u001b[0;34m'Got error: (sleeping for 60 seconds...)'\u001b[0m\u001b[0;34m,\u001b[0m \u001b[0mrequest\u001b[0m\u001b[0;34m.\u001b[0m\u001b[0mtext\u001b[0m\u001b[0;34m\u001b[0m\u001b[0m\n\u001b[0m\u001b[1;32m     28\u001b[0m             \u001b[0msys\u001b[0m\u001b[0;34m.\u001b[0m\u001b[0mstderr\u001b[0m\u001b[0;34m.\u001b[0m\u001b[0mflush\u001b[0m\u001b[0;34m(\u001b[0m\u001b[0;34m)\u001b[0m\u001b[0;34m\u001b[0m\u001b[0m\n\u001b[1;32m     29\u001b[0m             \u001b[0mtime\u001b[0m\u001b[0;34m.\u001b[0m\u001b[0msleep\u001b[0m\u001b[0;34m(\u001b[0m\u001b[0;36m60\u001b[0m\u001b[0;34m)\u001b[0m\u001b[0;34m\u001b[0m\u001b[0m\n",
      "\u001b[0;32m/Library/Python/2.7/site-packages/TwitterAPI/TwitterAPI.pyc\u001b[0m in \u001b[0;36mtext\u001b[0;34m(self)\u001b[0m\n\u001b[1;32m    151\u001b[0m     \u001b[0;32mdef\u001b[0m \u001b[0mtext\u001b[0m\u001b[0;34m(\u001b[0m\u001b[0mself\u001b[0m\u001b[0;34m)\u001b[0m\u001b[0;34m:\u001b[0m\u001b[0;34m\u001b[0m\u001b[0m\n\u001b[1;32m    152\u001b[0m         \u001b[0;34m\"\"\":returns: Raw API response text.\"\"\"\u001b[0m\u001b[0;34m\u001b[0m\u001b[0m\n\u001b[0;32m--> 153\u001b[0;31m         \u001b[0;32mreturn\u001b[0m \u001b[0mself\u001b[0m\u001b[0;34m.\u001b[0m\u001b[0mresponse\u001b[0m\u001b[0;34m.\u001b[0m\u001b[0mtext\u001b[0m\u001b[0;34m\u001b[0m\u001b[0m\n\u001b[0m\u001b[1;32m    154\u001b[0m \u001b[0;34m\u001b[0m\u001b[0m\n\u001b[1;32m    155\u001b[0m     \u001b[0;32mdef\u001b[0m \u001b[0mjson\u001b[0m\u001b[0;34m(\u001b[0m\u001b[0mself\u001b[0m\u001b[0;34m)\u001b[0m\u001b[0;34m:\u001b[0m\u001b[0;34m\u001b[0m\u001b[0m\n",
      "\u001b[0;32m/Library/Python/2.7/site-packages/requests/models.pyc\u001b[0m in \u001b[0;36mtext\u001b[0;34m(self)\u001b[0m\n\u001b[1;32m    775\u001b[0m         \u001b[0mencoding\u001b[0m \u001b[0;34m=\u001b[0m \u001b[0mself\u001b[0m\u001b[0;34m.\u001b[0m\u001b[0mencoding\u001b[0m\u001b[0;34m\u001b[0m\u001b[0m\n\u001b[1;32m    776\u001b[0m \u001b[0;34m\u001b[0m\u001b[0m\n\u001b[0;32m--> 777\u001b[0;31m         \u001b[0;32mif\u001b[0m \u001b[0;32mnot\u001b[0m \u001b[0mself\u001b[0m\u001b[0;34m.\u001b[0m\u001b[0mcontent\u001b[0m\u001b[0;34m:\u001b[0m\u001b[0;34m\u001b[0m\u001b[0m\n\u001b[0m\u001b[1;32m    778\u001b[0m             \u001b[0;32mreturn\u001b[0m \u001b[0mstr\u001b[0m\u001b[0;34m(\u001b[0m\u001b[0;34m''\u001b[0m\u001b[0;34m)\u001b[0m\u001b[0;34m\u001b[0m\u001b[0m\n\u001b[1;32m    779\u001b[0m \u001b[0;34m\u001b[0m\u001b[0m\n",
      "\u001b[0;32m/Library/Python/2.7/site-packages/requests/models.pyc\u001b[0m in \u001b[0;36mcontent\u001b[0;34m(self)\u001b[0m\n\u001b[1;32m    748\u001b[0m                     \u001b[0mself\u001b[0m\u001b[0;34m.\u001b[0m\u001b[0m_content\u001b[0m \u001b[0;34m=\u001b[0m \u001b[0mNone\u001b[0m\u001b[0;34m\u001b[0m\u001b[0m\n\u001b[1;32m    749\u001b[0m                 \u001b[0;32melse\u001b[0m\u001b[0;34m:\u001b[0m\u001b[0;34m\u001b[0m\u001b[0m\n\u001b[0;32m--> 750\u001b[0;31m                     \u001b[0mself\u001b[0m\u001b[0;34m.\u001b[0m\u001b[0m_content\u001b[0m \u001b[0;34m=\u001b[0m \u001b[0mbytes\u001b[0m\u001b[0;34m(\u001b[0m\u001b[0;34m)\u001b[0m\u001b[0;34m.\u001b[0m\u001b[0mjoin\u001b[0m\u001b[0;34m(\u001b[0m\u001b[0mself\u001b[0m\u001b[0;34m.\u001b[0m\u001b[0miter_content\u001b[0m\u001b[0;34m(\u001b[0m\u001b[0mCONTENT_CHUNK_SIZE\u001b[0m\u001b[0;34m)\u001b[0m\u001b[0;34m)\u001b[0m \u001b[0;32mor\u001b[0m \u001b[0mbytes\u001b[0m\u001b[0;34m(\u001b[0m\u001b[0;34m)\u001b[0m\u001b[0;34m\u001b[0m\u001b[0m\n\u001b[0m\u001b[1;32m    751\u001b[0m \u001b[0;34m\u001b[0m\u001b[0m\n\u001b[1;32m    752\u001b[0m             \u001b[0;32mexcept\u001b[0m \u001b[0mAttributeError\u001b[0m\u001b[0;34m:\u001b[0m\u001b[0;34m\u001b[0m\u001b[0m\n",
      "\u001b[0;32m/Library/Python/2.7/site-packages/requests/models.pyc\u001b[0m in \u001b[0;36mgenerate\u001b[0;34m()\u001b[0m\n\u001b[1;32m    671\u001b[0m                 \u001b[0;31m# Special case for urllib3.\u001b[0m\u001b[0;34m\u001b[0m\u001b[0;34m\u001b[0m\u001b[0m\n\u001b[1;32m    672\u001b[0m                 \u001b[0;32mtry\u001b[0m\u001b[0;34m:\u001b[0m\u001b[0;34m\u001b[0m\u001b[0m\n\u001b[0;32m--> 673\u001b[0;31m                     \u001b[0;32mfor\u001b[0m \u001b[0mchunk\u001b[0m \u001b[0;32min\u001b[0m \u001b[0mself\u001b[0m\u001b[0;34m.\u001b[0m\u001b[0mraw\u001b[0m\u001b[0;34m.\u001b[0m\u001b[0mstream\u001b[0m\u001b[0;34m(\u001b[0m\u001b[0mchunk_size\u001b[0m\u001b[0;34m,\u001b[0m \u001b[0mdecode_content\u001b[0m\u001b[0;34m=\u001b[0m\u001b[0mTrue\u001b[0m\u001b[0;34m)\u001b[0m\u001b[0;34m:\u001b[0m\u001b[0;34m\u001b[0m\u001b[0m\n\u001b[0m\u001b[1;32m    674\u001b[0m                         \u001b[0;32myield\u001b[0m \u001b[0mchunk\u001b[0m\u001b[0;34m\u001b[0m\u001b[0m\n\u001b[1;32m    675\u001b[0m                 \u001b[0;32mexcept\u001b[0m \u001b[0mProtocolError\u001b[0m \u001b[0;32mas\u001b[0m \u001b[0me\u001b[0m\u001b[0;34m:\u001b[0m\u001b[0;34m\u001b[0m\u001b[0m\n",
      "\u001b[0;32m/Library/Python/2.7/site-packages/requests/packages/urllib3/response.pyc\u001b[0m in \u001b[0;36mstream\u001b[0;34m(self, amt, decode_content)\u001b[0m\n\u001b[1;32m    301\u001b[0m         \"\"\"\n\u001b[1;32m    302\u001b[0m         \u001b[0;32mif\u001b[0m \u001b[0mself\u001b[0m\u001b[0;34m.\u001b[0m\u001b[0mchunked\u001b[0m\u001b[0;34m:\u001b[0m\u001b[0;34m\u001b[0m\u001b[0m\n\u001b[0;32m--> 303\u001b[0;31m             \u001b[0;32mfor\u001b[0m \u001b[0mline\u001b[0m \u001b[0;32min\u001b[0m \u001b[0mself\u001b[0m\u001b[0;34m.\u001b[0m\u001b[0mread_chunked\u001b[0m\u001b[0;34m(\u001b[0m\u001b[0mamt\u001b[0m\u001b[0;34m,\u001b[0m \u001b[0mdecode_content\u001b[0m\u001b[0;34m=\u001b[0m\u001b[0mdecode_content\u001b[0m\u001b[0;34m)\u001b[0m\u001b[0;34m:\u001b[0m\u001b[0;34m\u001b[0m\u001b[0m\n\u001b[0m\u001b[1;32m    304\u001b[0m                 \u001b[0;32myield\u001b[0m \u001b[0mline\u001b[0m\u001b[0;34m\u001b[0m\u001b[0m\n\u001b[1;32m    305\u001b[0m         \u001b[0;32melse\u001b[0m\u001b[0;34m:\u001b[0m\u001b[0;34m\u001b[0m\u001b[0m\n",
      "\u001b[0;32m/Library/Python/2.7/site-packages/requests/packages/urllib3/response.pyc\u001b[0m in \u001b[0;36mread_chunked\u001b[0;34m(self, amt, decode_content)\u001b[0m\n\u001b[1;32m    445\u001b[0m \u001b[0;34m\u001b[0m\u001b[0m\n\u001b[1;32m    446\u001b[0m         \u001b[0;32mwhile\u001b[0m \u001b[0mTrue\u001b[0m\u001b[0;34m:\u001b[0m\u001b[0;34m\u001b[0m\u001b[0m\n\u001b[0;32m--> 447\u001b[0;31m             \u001b[0mself\u001b[0m\u001b[0;34m.\u001b[0m\u001b[0m_update_chunk_length\u001b[0m\u001b[0;34m(\u001b[0m\u001b[0;34m)\u001b[0m\u001b[0;34m\u001b[0m\u001b[0m\n\u001b[0m\u001b[1;32m    448\u001b[0m             \u001b[0;32mif\u001b[0m \u001b[0mself\u001b[0m\u001b[0;34m.\u001b[0m\u001b[0mchunk_left\u001b[0m \u001b[0;34m==\u001b[0m \u001b[0;36m0\u001b[0m\u001b[0;34m:\u001b[0m\u001b[0;34m\u001b[0m\u001b[0m\n\u001b[1;32m    449\u001b[0m                 \u001b[0;32mbreak\u001b[0m\u001b[0;34m\u001b[0m\u001b[0m\n",
      "\u001b[0;32m/Library/Python/2.7/site-packages/requests/packages/urllib3/response.pyc\u001b[0m in \u001b[0;36m_update_chunk_length\u001b[0;34m(self)\u001b[0m\n\u001b[1;32m    392\u001b[0m         \u001b[0;32mif\u001b[0m \u001b[0mself\u001b[0m\u001b[0;34m.\u001b[0m\u001b[0mchunk_left\u001b[0m \u001b[0;32mis\u001b[0m \u001b[0;32mnot\u001b[0m \u001b[0mNone\u001b[0m\u001b[0;34m:\u001b[0m\u001b[0;34m\u001b[0m\u001b[0m\n\u001b[1;32m    393\u001b[0m             \u001b[0;32mreturn\u001b[0m\u001b[0;34m\u001b[0m\u001b[0m\n\u001b[0;32m--> 394\u001b[0;31m         \u001b[0mline\u001b[0m \u001b[0;34m=\u001b[0m \u001b[0mself\u001b[0m\u001b[0;34m.\u001b[0m\u001b[0m_fp\u001b[0m\u001b[0;34m.\u001b[0m\u001b[0mfp\u001b[0m\u001b[0;34m.\u001b[0m\u001b[0mreadline\u001b[0m\u001b[0;34m(\u001b[0m\u001b[0;34m)\u001b[0m\u001b[0;34m\u001b[0m\u001b[0m\n\u001b[0m\u001b[1;32m    395\u001b[0m         \u001b[0mline\u001b[0m \u001b[0;34m=\u001b[0m \u001b[0mline\u001b[0m\u001b[0;34m.\u001b[0m\u001b[0msplit\u001b[0m\u001b[0;34m(\u001b[0m\u001b[0;34mb';'\u001b[0m\u001b[0;34m,\u001b[0m \u001b[0;36m1\u001b[0m\u001b[0;34m)\u001b[0m\u001b[0;34m[\u001b[0m\u001b[0;36m0\u001b[0m\u001b[0;34m]\u001b[0m\u001b[0;34m\u001b[0m\u001b[0m\n\u001b[1;32m    396\u001b[0m         \u001b[0;32mtry\u001b[0m\u001b[0;34m:\u001b[0m\u001b[0;34m\u001b[0m\u001b[0m\n",
      "\u001b[0;32m/System/Library/Frameworks/Python.framework/Versions/2.7/lib/python2.7/socket.pyc\u001b[0m in \u001b[0;36mreadline\u001b[0;34m(self, size)\u001b[0m\n\u001b[1;32m    445\u001b[0m             \u001b[0;32mwhile\u001b[0m \u001b[0mTrue\u001b[0m\u001b[0;34m:\u001b[0m\u001b[0;34m\u001b[0m\u001b[0m\n\u001b[1;32m    446\u001b[0m                 \u001b[0;32mtry\u001b[0m\u001b[0;34m:\u001b[0m\u001b[0;34m\u001b[0m\u001b[0m\n\u001b[0;32m--> 447\u001b[0;31m                     \u001b[0mdata\u001b[0m \u001b[0;34m=\u001b[0m \u001b[0mself\u001b[0m\u001b[0;34m.\u001b[0m\u001b[0m_sock\u001b[0m\u001b[0;34m.\u001b[0m\u001b[0mrecv\u001b[0m\u001b[0;34m(\u001b[0m\u001b[0mself\u001b[0m\u001b[0;34m.\u001b[0m\u001b[0m_rbufsize\u001b[0m\u001b[0;34m)\u001b[0m\u001b[0;34m\u001b[0m\u001b[0m\n\u001b[0m\u001b[1;32m    448\u001b[0m                 \u001b[0;32mexcept\u001b[0m \u001b[0merror\u001b[0m\u001b[0;34m,\u001b[0m \u001b[0me\u001b[0m\u001b[0;34m:\u001b[0m\u001b[0;34m\u001b[0m\u001b[0m\n\u001b[1;32m    449\u001b[0m                     \u001b[0;32mif\u001b[0m \u001b[0me\u001b[0m\u001b[0;34m.\u001b[0m\u001b[0margs\u001b[0m\u001b[0;34m[\u001b[0m\u001b[0;36m0\u001b[0m\u001b[0;34m]\u001b[0m \u001b[0;34m==\u001b[0m \u001b[0mEINTR\u001b[0m\u001b[0;34m:\u001b[0m\u001b[0;34m\u001b[0m\u001b[0m\n",
      "\u001b[0;32m/Library/Python/2.7/site-packages/requests/packages/urllib3/contrib/pyopenssl.pyc\u001b[0m in \u001b[0;36mrecv\u001b[0;34m(self, *args, **kwargs)\u001b[0m\n\u001b[1;32m    182\u001b[0m         \u001b[0;32mexcept\u001b[0m \u001b[0mOpenSSL\u001b[0m\u001b[0;34m.\u001b[0m\u001b[0mSSL\u001b[0m\u001b[0;34m.\u001b[0m\u001b[0mWantReadError\u001b[0m\u001b[0;34m:\u001b[0m\u001b[0;34m\u001b[0m\u001b[0m\n\u001b[1;32m    183\u001b[0m             rd, wd, ed = select.select(\n\u001b[0;32m--> 184\u001b[0;31m                 [self.socket], [], [], self.socket.gettimeout())\n\u001b[0m\u001b[1;32m    185\u001b[0m             \u001b[0;32mif\u001b[0m \u001b[0;32mnot\u001b[0m \u001b[0mrd\u001b[0m\u001b[0;34m:\u001b[0m\u001b[0;34m\u001b[0m\u001b[0m\n\u001b[1;32m    186\u001b[0m                 \u001b[0;32mraise\u001b[0m \u001b[0mtimeout\u001b[0m\u001b[0;34m(\u001b[0m\u001b[0;34m'The read operation timed out'\u001b[0m\u001b[0;34m)\u001b[0m\u001b[0;34m\u001b[0m\u001b[0m\n",
      "\u001b[0;31mKeyboardInterrupt\u001b[0m: "
     ]
    }
   ],
   "source": [
    "def get_users():\n",
    "    print 'in get_users()'\n",
    "    #request = robust_request(twitter,'user', {'follow': followers_list})\n",
    "    #request = twitter.request('user', {'follow': followers_list})\n",
    "    #request2 = twitter.request('statuses/filter', {'follow':['stephenfgrove', 'stephniawang', 'sterlingeng']})\n",
    "    request = twitter.request('statuses/filter', {'follow':userIds[:5000], 'filter_level':'low'})\n",
    "    timestamp = datetime.datetime.fromtimestamp(time.time()).strftime('%Y-%m-%d %H:%M:%S')\n",
    "    newfile = 'streaming_user_tweets_' + timestamp + '.txt'\n",
    "    f = codecs.open(newfile,'a',encoding='utf8')\n",
    "    tweets = 0\n",
    "    print 'starting collection!!! :)'\n",
    "    while True:\n",
    "        try:\n",
    "            for tweet in request:\n",
    "                #print \"saved tweet %d from %s\" % (tweets, tweet['user']['name'])\n",
    "                f.write(tweet['user']['name'] + ' :\\n')\n",
    "                f.write(tweet['text'] + '\\n')\n",
    "                f.write('\\n')\n",
    "                print 'dumped tweet to file'\n",
    "                #print tweet['text']\n",
    "                tweets += 1\n",
    "                if tweets > 10000:\n",
    "                    tweets = 1\n",
    "                    timestamp = datetime.datetime.fromtimestamp(time.time()).strftime('%Y-%m-%d %H:%M:%S')\n",
    "                    newfile = 'streaming_user_tweets_' + timestamp + '.txt' \n",
    "        except:\n",
    "            print >> sys.stderr, 'Got error: (sleeping for 60 seconds...)', request.text\n",
    "            sys.stderr.flush()\n",
    "            time.sleep(60) \n",
    "    \n",
    "                    \n",
    "get_users()               "
   ]
  },
  {
   "cell_type": "code",
   "execution_count": null,
   "metadata": {
    "collapsed": true
   },
   "outputs": [],
   "source": []
  },
  {
   "cell_type": "code",
   "execution_count": null,
   "metadata": {
    "collapsed": true
   },
   "outputs": [],
   "source": []
  },
  {
   "cell_type": "code",
   "execution_count": null,
   "metadata": {
    "collapsed": true
   },
   "outputs": [],
   "source": []
  }
 ],
 "metadata": {
  "kernelspec": {
   "display_name": "Python 2",
   "language": "python",
   "name": "python2"
  },
  "language_info": {
   "codemirror_mode": {
    "name": "ipython",
    "version": 2
   },
   "file_extension": ".py",
   "mimetype": "text/x-python",
   "name": "python",
   "nbconvert_exporter": "python",
   "pygments_lexer": "ipython2",
   "version": "2.7.6"
  }
 },
 "nbformat": 4,
 "nbformat_minor": 0
}
