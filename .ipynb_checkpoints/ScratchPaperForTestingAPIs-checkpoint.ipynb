{
 "cells": [
  {
   "cell_type": "code",
   "execution_count": 1,
   "metadata": {
    "collapsed": false
   },
   "outputs": [],
   "source": [
    "# Imports you'll need.\n",
    "from collections import Counter\n",
    "import ConfigParser\n",
    "import matplotlib.pyplot as plt\n",
    "import networkx as nx\n",
    "import sys\n",
    "import time\n",
    "from TwitterAPI import TwitterAPI\n",
    "import pickle \n",
    "import re \n",
    "from collections import defaultdict\n",
    "import datetime\n",
    "#%matplotlib inline\n",
    "\n",
    "# This method is done for you. Make sure to put your credentials in twitter.cfg.\n",
    "def get_twitter(config_file):\n",
    "    \"\"\" Read the config_file and construct an instance of TwitterAPI.\n",
    "    Args:\n",
    "      config_file ... A config file in ConfigParser format with Twitter credentials\n",
    "    Returns:\n",
    "      An instance of TwitterAPI.\n",
    "    \"\"\"\n",
    "    config = ConfigParser.ConfigParser()\n",
    "    config.read(config_file)\n",
    "    twitter = TwitterAPI(\n",
    "                   config.get('twitter', 'consumer_key'),\n",
    "                   config.get('twitter', 'consumer_secret'),\n",
    "                   config.get('twitter', 'access_token'),\n",
    "                   config.get('twitter', 'access_token_secret'))\n",
    "    return twitter\n"
   ]
  },
  {
   "cell_type": "code",
   "execution_count": 2,
   "metadata": {
    "collapsed": false
   },
   "outputs": [
    {
     "name": "stdout",
     "output_type": "stream",
     "text": [
      "Established Twitter connection.\n"
     ]
    }
   ],
   "source": [
    "twitter = get_twitter('twitter.cfg')\n",
    "print('Established Twitter connection.')"
   ]
  },
  {
   "cell_type": "code",
   "execution_count": 3,
   "metadata": {
    "collapsed": true
   },
   "outputs": [],
   "source": [
    "def robust_request(twitter, resource, params, max_tries=5):\n",
    "    \"\"\" If a Twitter request fails, sleep for 15 minutes.\n",
    "    Do this at most max_tries times before quitting.\n",
    "    Args:\n",
    "      twitter .... A TwitterAPI object.\n",
    "      resource ... A resource string to request.\n",
    "      params ..... A parameter dictionary for the request.\n",
    "      max_tries .. The maximum number of tries to attempt.\n",
    "    Returns:\n",
    "      A TwitterResponse object, or None if failed.\n",
    "    \"\"\"\n",
    "    for i in range(max_tries):\n",
    "        request = twitter.request(resource, params)\n",
    "        if request.status_code == 200:\n",
    "            return request\n",
    "        else:\n",
    "            print >> sys.stderr, 'Got error:', request.text, '\\nsleeping for 15 minutes.'\n",
    "            sys.stderr.flush()\n",
    "            time.sleep(61 * 15)\n",
    " "
   ]
  },
  {
   "cell_type": "code",
   "execution_count": 4,
   "metadata": {
    "collapsed": false,
    "scrolled": true
   },
   "outputs": [
    {
     "data": {
      "text/plain": [
       "'\\nhttps://twitter.com/uiucbusiness\\nhttps://twitter.com/uofifs - facility & services ???\\nhttps://twitter.com/thedailyillini - The Independent Student Newspaper at the UofI\\n'"
      ]
     },
     "execution_count": 4,
     "metadata": {},
     "output_type": "execute_result"
    }
   ],
   "source": [
    "#import ssl\n",
    "#import requests.packages.urllib3\n",
    "#\n",
    "'''\n",
    "https://twitter.com/uiucbusiness\n",
    "https://twitter.com/uofifs - facility & services ???\n",
    "https://twitter.com/thedailyillini - The Independent Student Newspaper at the UofI\n",
    "'''\n",
    "# input_string = \"University of Illinois, Urbana-Champaign\" or \"UIUC\" or \"UI\"\n",
    "# request = robust_request(twitter,'search/tweets',{'q':'MIT','lang':'en', 'count':100})\n",
    "# for tweet in request:\n",
    "#     print tweet['text'] \n",
    "#     print '\\n'"
   ]
  },
  {
   "cell_type": "code",
   "execution_count": 5,
   "metadata": {
    "collapsed": false
   },
   "outputs": [],
   "source": [
    "def pickle_to_file(filename, stream_of_data):\n",
    "    f = open(filename,'w')\n",
    "    for line in stream_of_data:\n",
    "        u = line['text']\n",
    "        pickle.dump(line,f)\n",
    "    f.close()\n",
    "    print \"End of saving to file\" , filename"
   ]
  },
  {
   "cell_type": "code",
   "execution_count": 6,
   "metadata": {
    "collapsed": false,
    "scrolled": false
   },
   "outputs": [],
   "source": [
    "#pickle_to_file('tempdatafile.txt',request)"
   ]
  },
  {
   "cell_type": "code",
   "execution_count": 7,
   "metadata": {
    "collapsed": false
   },
   "outputs": [],
   "source": [
    "def unpickle_to_file(inputfile,outputfile):\n",
    "    inf = open(inputfile,'rb')\n",
    "    outf = open(outputfile,'w')\n",
    "    output = pickle.load(inf)\n",
    "\n",
    "    for key in output:\n",
    "        if type(output[key]) == dict:\n",
    "            topKey = output[key]\n",
    "            outf.write (\"%s\" % (key + \":\"))\n",
    "            outf.write(\"\\n\")\n",
    "            for k2 in topKey:\n",
    "                outf.write(\"   %-30s\" % (k2 + \": \"))\n",
    "                outf.write(str(topKey[k2]))\n",
    "                outf.write(\"\\n\")\n",
    "        else:\n",
    "            outf.write(\"%-30s\" % (key + \": \"))\n",
    "            outf.write(str(output[key]))\n",
    "            outf.write(\"\\n\")\n",
    "    outf.close()\n",
    "    inf.close()\n",
    "    print \"End of writing to file \" , outputfile"
   ]
  },
  {
   "cell_type": "code",
   "execution_count": 8,
   "metadata": {
    "collapsed": false,
    "scrolled": true
   },
   "outputs": [],
   "source": [
    "def get_followers():\n",
    "    followers = []\n",
    "    f = open ('iit_followers.txt','rb')\n",
    "    regexp = re.compile(r'p\\d+')\n",
    "    for line in f:\n",
    "        if regexp.search(str(line)) is not None:\n",
    "            continue\n",
    "        else: \n",
    "            if line.startswith('aV'):\n",
    "                line = line[2:]\n",
    "                followers.append(line.replace(\"\\n\",\"\"))\n",
    "    followers.sort()\n",
    "    return followers\n",
    "\n",
    "followers_list = get_followers()\n",
    "#print followers_list"
   ]
  },
  {
   "cell_type": "code",
   "execution_count": 11,
   "metadata": {
    "collapsed": false
   },
   "outputs": [
    {
     "name": "stdout",
     "output_type": "stream",
     "text": [
      "132\n"
     ]
    }
   ],
   "source": [
    "# for follower in followers_list:\n",
    "#     print follower\n",
    "print followers_list.index('ASTMStudentFans')"
   ]
  },
  {
   "cell_type": "code",
   "execution_count": 158,
   "metadata": {
    "collapsed": false,
    "scrolled": true
   },
   "outputs": [],
   "source": [
    "def print_tweets(outputfile,follower_index):\n",
    "    tweets = 0\n",
    "    f = open(outputfile,'a')\n",
    "    print 'opened file named' , outputfile\n",
    "    followers = get_followers()[follower_index:]\n",
    "    for follower in followers:\n",
    "        request = twitter.request('statuses/user_timeline',{'screen_name': follower})\n",
    "        if request.status_code == 401:\n",
    "            print 'Unauthorized data access. The user does not have access to such information'\n",
    "            continue\n",
    "        else:\n",
    "            if tweets <= 5000:\n",
    "                f.write(follower + \":\")\n",
    "                for tweet in request:\n",
    "                    if tweet is not None:\n",
    "                        f.write(tweet['text'])\n",
    "            else:\n",
    "                timestamp = datetime.datetime.fromtimestamp(time.time()).strftime('%Y-%m-%d %H:%M:%S')\n",
    "                newfile = 'outputfile' + timestamp + '.txt'\n",
    "                print 'calling new file name', newfile\n",
    "                print_tweets(newfile,followers.index(follower))\n",
    "\n",
    "outputfile = 'outputfile'+ datetime.datetime.fromtimestamp(time.time()).strftime('%Y-%m-%d %H:%M:%S')+ '.txt'\n",
    "#print_tweets(outputfile,0)"
   ]
  },
  {
   "cell_type": "code",
   "execution_count": 146,
   "metadata": {
    "collapsed": false
   },
   "outputs": [
    {
     "name": "stdout",
     "output_type": "stream",
     "text": [
      "defaultdict(<type 'list'>, {})\n"
     ]
    }
   ],
   "source": [
    "print tweets"
   ]
  },
  {
   "cell_type": "code",
   "execution_count": 260,
   "metadata": {
    "collapsed": true
   },
   "outputs": [],
   "source": [
    "def recurse_dict(dictionary):\n",
    "    for key in dictionary:\n",
    "        if type(key) == dict:\n",
    "            recurse_dict(key)\n",
    "        else:\n",
    "            print (\"%s\" % (key))\n",
    "            #print dictionary[key]"
   ]
  },
  {
   "cell_type": "code",
   "execution_count": 271,
   "metadata": {
    "collapsed": true
   },
   "outputs": [],
   "source": [
    "def rtrv_student_from_twtrpage():\n",
    "    request = robust_request(twitter, 'users/search', {'q':'TheDailyIllini'})\n",
    "    for tweet in request:\n",
    "        print (\"----------------------------------------------------------------------\")\n",
    "        for key in tweet:\n",
    "            print (key + \":\")\n",
    "            print tweet[key]\n",
    "            print ('\\n')"
   ]
  },
  {
   "cell_type": "code",
   "execution_count": 1,
   "metadata": {
    "collapsed": false,
    "scrolled": true
   },
   "outputs": [],
   "source": [
    "#rtrv_student_from_twtrpage()"
   ]
  },
  {
   "cell_type": "code",
   "execution_count": null,
   "metadata": {
    "collapsed": true
   },
   "outputs": [],
   "source": []
  },
  {
   "cell_type": "code",
   "execution_count": null,
   "metadata": {
    "collapsed": true
   },
   "outputs": [],
   "source": []
  }
 ],
 "metadata": {
  "kernelspec": {
   "display_name": "Python 2",
   "language": "python",
   "name": "python2"
  },
  "language_info": {
   "codemirror_mode": {
    "name": "ipython",
    "version": 2
   },
   "file_extension": ".py",
   "mimetype": "text/x-python",
   "name": "python",
   "nbconvert_exporter": "python",
   "pygments_lexer": "ipython2",
   "version": "2.7.6"
  }
 },
 "nbformat": 4,
 "nbformat_minor": 0
}
