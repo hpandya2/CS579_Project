{
 "cells": [
  {
   "cell_type": "code",
   "execution_count": 1,
   "metadata": {
    "collapsed": false
   },
   "outputs": [],
   "source": [
    "from collections import Counter\n",
    "import ConfigParser\n",
    "import matplotlib.pyplot as plt\n",
    "import networkx as nx\n",
    "import sys\n",
    "import time\n",
    "from TwitterAPI import TwitterAPI\n",
    "import pickle \n",
    "import re \n",
    "from collections import defaultdict\n",
    "import datetime\n",
    "import codecs\n",
    "import json\n"
   ]
  },
  {
   "cell_type": "code",
   "execution_count": 2,
   "metadata": {
    "collapsed": false
   },
   "outputs": [
    {
     "name": "stdout",
     "output_type": "stream",
     "text": [
      "Established Twitter connection.\n"
     ]
    }
   ],
   "source": [
    "# This method is done for you. Make sure to put your credentials in twitter.cfg.\n",
    "def get_twitter(config_file):\n",
    "    \"\"\" Read the config_file and construct an instance of TwitterAPI.\n",
    "    Args:\n",
    "      config_file ... A config file in ConfigParser format with Twitter credentials\n",
    "    Returns:\n",
    "      An instance of TwitterAPI.\n",
    "    \"\"\"\n",
    "    config = ConfigParser.ConfigParser()\n",
    "    config.read(config_file)\n",
    "    twitter = TwitterAPI(\n",
    "                   config.get('twitter', 'consumer_key'),\n",
    "                   config.get('twitter', 'consumer_secret'),\n",
    "                   config.get('twitter', 'access_token'),\n",
    "                   config.get('twitter', 'access_token_secret'))\n",
    "    return twitter\n",
    "\n",
    "twitter = get_twitter('twitter.cfg')\n",
    "print('Established Twitter connection.')"
   ]
  },
  {
   "cell_type": "code",
   "execution_count": 4,
   "metadata": {
    "collapsed": false
   },
   "outputs": [],
   "source": [
    "def robust_request(twitter, resource, params, max_tries=2):\n",
    "    \"\"\" If a Twitter request fails, sleep for 15 minutes.\n",
    "    Do this at most max_tries times before quitting.\n",
    "    Args:\n",
    "      twitter .... A TwitterAPI object.\n",
    "      resource ... A resource string to request.\n",
    "      params ..... A parameter dictionary for the request.\n",
    "      max_tries .. The maximum number of tries to attempt.\n",
    "    Returns:\n",
    "      A TwitterResponse object, or None if failed.\n",
    "    \"\"\"\n",
    "    for i in range(max_tries):\n",
    "        request = twitter.request(resource, params)\n",
    "        if request.status_code == 401:\n",
    "            print 'Unauthorized data access. The user does not have access to such information'\n",
    "            break\n",
    "        elif \"page does not exist\" in request.text:\n",
    "            print 'page does not exist'\n",
    "            break\n",
    "        elif request.status_code == 200:\n",
    "            return request\n",
    "        else:\n",
    "            print >> sys.stderr, 'Got error:', request.text, '\\nsleeping for 15 minutes.'\n",
    "            sys.stderr.flush()\n",
    "            time.sleep(61 * 15)\n",
    " "
   ]
  },
  {
   "cell_type": "code",
   "execution_count": 7,
   "metadata": {
    "collapsed": false
   },
   "outputs": [
    {
     "data": {
      "text/plain": [
       "35984"
      ]
     },
     "execution_count": 7,
     "metadata": {},
     "output_type": "execute_result"
    }
   ],
   "source": [
    "def get_followers_from_pickle(filename):\n",
    "    \"\"\" Returns all followers of a Twitter account by retrieving saved data,\n",
    "        using pickle method.\n",
    "    \n",
    "    Args: A string representing the screen_name of a Twitter account,\n",
    "          whose followers we need.\n",
    "    Returns : A dictionary of { screen_name : user_info } pairs of followers,\n",
    "              where user_info is a dictionary object containing user information\n",
    "    \"\"\"\n",
    "    fileObject = open(filename,'r')\n",
    "    followers = pickle.load(fileObject)\n",
    "    fileObject.close()\n",
    "    return followers\n",
    "\n",
    "# fname = 'streaming_user_tweets_2015-11-18 12:26:03.txt'\n",
    "# data = get_followers_from_pickle(fname)\n",
    "# print data\n",
    "followers_list = get_followers_from_pickle('nu_followers.txt')\n",
    "len(followers)"
   ]
  },
  {
   "cell_type": "code",
   "execution_count": 13,
   "metadata": {
    "collapsed": true
   },
   "outputs": [],
   "source": [
    "# def get_followers():\n",
    "#     followers = []\n",
    "#     f = open ('iit_followers.txt','rb')\n",
    "#     regexp = re.compile(r'p\\d+')\n",
    "#     for line in f:\n",
    "#         if regexp.search(str(line)) is not None:\n",
    "#             continue\n",
    "#         else: \n",
    "#             if line.startswith('aV'):\n",
    "#                 line = line[2:]\n",
    "#                 followers.append(line.replace(\"\\n\",\"\"))\n",
    "#     followers.sort()\n",
    "#     return followers\n",
    "\n",
    "# followers_list = get_followers()"
   ]
  },
  {
   "cell_type": "code",
   "execution_count": 10,
   "metadata": {
    "collapsed": false,
    "scrolled": true
   },
   "outputs": [
    {
     "name": "stdout",
     "output_type": "stream",
     "text": [
      "processing follower 005ia with index 0 in followers_list\n",
      "dumped tweet no 1\n",
      "dumped tweet no 2\n",
      "dumped tweet no 3\n",
      "dumped tweet no 4\n",
      "dumped tweet no 5\n",
      "dumped tweet no 6\n",
      "dumped tweet no 7\n",
      "dumped tweet no 8\n",
      "dumped tweet no 9\n",
      "dumped tweet no 10\n",
      "dumped tweet no 11\n",
      "processing follower 007MAV with index 1 in followers_list\n",
      "dumped tweet no 12\n",
      "dumped tweet no 13\n",
      "dumped tweet no 14\n",
      "dumped tweet no 15\n",
      "dumped tweet no 16\n",
      "dumped tweet no 17\n",
      "dumped tweet no 18\n",
      "dumped tweet no 19\n",
      "dumped tweet no 20\n",
      "dumped tweet no 21\n",
      "dumped tweet no 22\n",
      "dumped tweet no 23\n",
      "dumped tweet no 24\n",
      "dumped tweet no 25\n",
      "dumped tweet no 26\n",
      "dumped tweet no 27\n",
      "dumped tweet no 28\n",
      "dumped tweet no 29\n",
      "dumped tweet no 30\n",
      "dumped tweet no 31\n",
      "processing follower 007kengom with index 2 in followers_list\n",
      "dumped tweet no 32\n",
      "dumped tweet no 33\n",
      "dumped tweet no 34\n",
      "dumped tweet no 35\n",
      "dumped tweet no 36\n",
      "dumped tweet no 37\n",
      "dumped tweet no 38\n",
      "dumped tweet no 39\n",
      "dumped tweet no 40\n",
      "dumped tweet no 41\n",
      "dumped tweet no 42\n",
      "dumped tweet no 43\n",
      "dumped tweet no 44\n",
      "dumped tweet no 45\n",
      "dumped tweet no 46\n",
      "processing follower 0118mag3 with index 3 in followers_list\n",
      "dumped tweet no 47\n",
      "dumped tweet no 48\n",
      "dumped tweet no 49\n",
      "dumped tweet no 50\n",
      "dumped tweet no 51\n",
      "dumped tweet no 52\n",
      "dumped tweet no 53\n",
      "dumped tweet no 54\n",
      "dumped tweet no 55\n",
      "dumped tweet no 56\n",
      "dumped tweet no 57\n",
      "dumped tweet no 58\n",
      "dumped tweet no 59\n",
      "dumped tweet no 60\n",
      "dumped tweet no 61\n",
      "dumped tweet no 62\n",
      "dumped tweet no 63\n",
      "dumped tweet no 64\n",
      "dumped tweet no 65\n",
      "dumped tweet no 66\n",
      "processing follower 0179849769 with index 4 in followers_list\n",
      "processing follower 027_rmm with index 5 in followers_list\n",
      "dumped tweet no 67\n",
      "dumped tweet no 68\n",
      "dumped tweet no 69\n",
      "dumped tweet no 70\n",
      "dumped tweet no 71\n",
      "dumped tweet no 72\n",
      "dumped tweet no 73\n",
      "dumped tweet no 74\n",
      "dumped tweet no 75\n",
      "dumped tweet no 76\n",
      "dumped tweet no 77\n",
      "dumped tweet no 78\n",
      "dumped tweet no 79\n",
      "dumped tweet no 80\n",
      "dumped tweet no 81\n",
      "dumped tweet no 82\n",
      "dumped tweet no 83\n",
      "dumped tweet no 84\n",
      "dumped tweet no 85\n",
      "dumped tweet no 86\n",
      "processing follower 02joe20 with index 6 in followers_list\n",
      "Unauthorized data access. The user does not have access to such information"
     ]
    },
    {
     "name": "stderr",
     "output_type": "stream",
     "text": [
      "Got error: {\"errors\":[{\"message\":\"Rate limit exceeded\",\"code\":88}]} \n",
      "sleeping for 15 minutes.\n",
      "Got error: {\"errors\":[{\"message\":\"Rate limit exceeded\",\"code\":88}]} \n",
      "sleeping for 15 minutes.\n"
     ]
    },
    {
     "name": "stdout",
     "output_type": "stream",
     "text": [
      "\n",
      "processing follower 0356614b71b34e8 with index 7 in followers_list\n",
      "processing follower 0599ab6909434a6 with index 8 in followers_list"
     ]
    },
    {
     "name": "stderr",
     "output_type": "stream",
     "text": [
      "Got error: {\"errors\":[{\"message\":\"Rate limit exceeded\",\"code\":88}]} \n",
      "sleeping for 15 minutes.\n",
      "Got error: {\"errors\":[{\"message\":\"Rate limit exceeded\",\"code\":88}]} \n",
      "sleeping for 15 minutes.\n"
     ]
    },
    {
     "name": "stdout",
     "output_type": "stream",
     "text": [
      "\n",
      "processing follower 06122234 with index 9 in followers_list"
     ]
    },
    {
     "name": "stderr",
     "output_type": "stream",
     "text": [
      "Got error: {\"errors\":[{\"message\":\"Rate limit exceeded\",\"code\":88}]} \n",
      "sleeping for 15 minutes.\n",
      "Got error: {\"errors\":[{\"message\":\"Rate limit exceeded\",\"code\":88}]} \n",
      "sleeping for 15 minutes.\n"
     ]
    },
    {
     "name": "stdout",
     "output_type": "stream",
     "text": [
      "\n"
     ]
    },
    {
     "ename": "KeyboardInterrupt",
     "evalue": "",
     "output_type": "error",
     "traceback": [
      "\u001b[0;31m---------------------------------------------------------------------------\u001b[0m",
      "\u001b[0;31mKeyboardInterrupt\u001b[0m                         Traceback (most recent call last)",
      "\u001b[0;32m<ipython-input-10-e23cc664ac8a>\u001b[0m in \u001b[0;36m<module>\u001b[0;34m()\u001b[0m\n\u001b[1;32m     27\u001b[0m \u001b[0;34m\u001b[0m\u001b[0m\n\u001b[1;32m     28\u001b[0m \u001b[0moutputfile\u001b[0m \u001b[0;34m=\u001b[0m \u001b[0;34m'nu_outputfile_'\u001b[0m\u001b[0;34m+\u001b[0m \u001b[0mdatetime\u001b[0m\u001b[0;34m.\u001b[0m\u001b[0mdatetime\u001b[0m\u001b[0;34m.\u001b[0m\u001b[0mfromtimestamp\u001b[0m\u001b[0;34m(\u001b[0m\u001b[0mtime\u001b[0m\u001b[0;34m.\u001b[0m\u001b[0mtime\u001b[0m\u001b[0;34m(\u001b[0m\u001b[0;34m)\u001b[0m\u001b[0;34m)\u001b[0m\u001b[0;34m.\u001b[0m\u001b[0mstrftime\u001b[0m\u001b[0;34m(\u001b[0m\u001b[0;34m'%Y-%m-%d %H:%M:%S'\u001b[0m\u001b[0;34m)\u001b[0m\u001b[0;34m+\u001b[0m \u001b[0;34m'.txt'\u001b[0m\u001b[0;34m\u001b[0m\u001b[0m\n\u001b[0;32m---> 29\u001b[0;31m \u001b[0mprint_tweets\u001b[0m\u001b[0;34m(\u001b[0m\u001b[0moutputfile\u001b[0m\u001b[0;34m,\u001b[0m\u001b[0;36m0\u001b[0m\u001b[0;34m)\u001b[0m\u001b[0;34m\u001b[0m\u001b[0m\n\u001b[0m",
      "\u001b[0;32m<ipython-input-10-e23cc664ac8a>\u001b[0m in \u001b[0;36mprint_tweets\u001b[0;34m(outputfile, follower_index)\u001b[0m\n\u001b[1;32m      9\u001b[0m     \u001b[0;32mfor\u001b[0m \u001b[0mfollower\u001b[0m \u001b[0;32min\u001b[0m \u001b[0mfollowers\u001b[0m\u001b[0;34m:\u001b[0m\u001b[0;34m\u001b[0m\u001b[0m\n\u001b[1;32m     10\u001b[0m         \u001b[0;32mprint\u001b[0m \u001b[0;34m\"processing follower %s with index %d in followers_list\"\u001b[0m \u001b[0;34m%\u001b[0m\u001b[0;34m(\u001b[0m\u001b[0mfollower\u001b[0m\u001b[0;34m,\u001b[0m \u001b[0mfollowers_list\u001b[0m\u001b[0;34m.\u001b[0m\u001b[0mindex\u001b[0m\u001b[0;34m(\u001b[0m\u001b[0mfollower\u001b[0m\u001b[0;34m)\u001b[0m\u001b[0;34m)\u001b[0m\u001b[0;34m\u001b[0m\u001b[0m\n\u001b[0;32m---> 11\u001b[0;31m         \u001b[0mrequest\u001b[0m \u001b[0;34m=\u001b[0m \u001b[0mrobust_request\u001b[0m\u001b[0;34m(\u001b[0m\u001b[0mtwitter\u001b[0m\u001b[0;34m,\u001b[0m\u001b[0;34m'statuses/user_timeline'\u001b[0m\u001b[0;34m,\u001b[0m\u001b[0;34m{\u001b[0m\u001b[0;34m'screen_name'\u001b[0m\u001b[0;34m:\u001b[0m \u001b[0mfollower\u001b[0m\u001b[0;34m}\u001b[0m\u001b[0;34m)\u001b[0m\u001b[0;34m\u001b[0m\u001b[0m\n\u001b[0m\u001b[1;32m     12\u001b[0m         \u001b[0;32mif\u001b[0m \u001b[0mrequest\u001b[0m \u001b[0;32mis\u001b[0m \u001b[0;32mnot\u001b[0m \u001b[0mNone\u001b[0m\u001b[0;34m:\u001b[0m\u001b[0;34m\u001b[0m\u001b[0m\n\u001b[1;32m     13\u001b[0m             \u001b[0;32mif\u001b[0m \u001b[0mtweets\u001b[0m \u001b[0;34m<=\u001b[0m \u001b[0;36m10000\u001b[0m\u001b[0;34m:\u001b[0m\u001b[0;34m\u001b[0m\u001b[0m\n",
      "\u001b[0;32m<ipython-input-4-c50192b2c259>\u001b[0m in \u001b[0;36mrobust_request\u001b[0;34m(twitter, resource, params, max_tries)\u001b[0m\n\u001b[1;32m     23\u001b[0m             \u001b[0;32mprint\u001b[0m \u001b[0;34m>>\u001b[0m \u001b[0msys\u001b[0m\u001b[0;34m.\u001b[0m\u001b[0mstderr\u001b[0m\u001b[0;34m,\u001b[0m \u001b[0;34m'Got error:'\u001b[0m\u001b[0;34m,\u001b[0m \u001b[0mrequest\u001b[0m\u001b[0;34m.\u001b[0m\u001b[0mtext\u001b[0m\u001b[0;34m,\u001b[0m \u001b[0;34m'\\nsleeping for 15 minutes.'\u001b[0m\u001b[0;34m\u001b[0m\u001b[0m\n\u001b[1;32m     24\u001b[0m             \u001b[0msys\u001b[0m\u001b[0;34m.\u001b[0m\u001b[0mstderr\u001b[0m\u001b[0;34m.\u001b[0m\u001b[0mflush\u001b[0m\u001b[0;34m(\u001b[0m\u001b[0;34m)\u001b[0m\u001b[0;34m\u001b[0m\u001b[0m\n\u001b[0;32m---> 25\u001b[0;31m             \u001b[0mtime\u001b[0m\u001b[0;34m.\u001b[0m\u001b[0msleep\u001b[0m\u001b[0;34m(\u001b[0m\u001b[0;36m61\u001b[0m \u001b[0;34m*\u001b[0m \u001b[0;36m1\u001b[0m\u001b[0;34m)\u001b[0m\u001b[0;34m\u001b[0m\u001b[0m\n\u001b[0m\u001b[1;32m     26\u001b[0m \u001b[0;34m\u001b[0m\u001b[0m\n",
      "\u001b[0;31mKeyboardInterrupt\u001b[0m: "
     ]
    }
   ],
   "source": [
    "#This method collects tweets of all the followers of IIT's different twitter profiles and pickles them to a file\n",
    "#Each file is time stamped and creates a new file at every 5000 tweets\n",
    "#It takes the name of the output file and index in followers_list (list of screen_names of iit followers) \n",
    "#where one would like to start data collection. \n",
    "def print_tweets(outputfile,follower_index):\n",
    "    tweets = 0\n",
    "    followers = followers_list[follower_index:]\n",
    "    f = codecs.open(outputfile,'a',encoding='utf8')\n",
    "    for follower in followers:\n",
    "        print \"processing follower %s with index %d in followers_list\" %(follower, followers_list.index(follower))\n",
    "        request = robust_request(twitter,'statuses/user_timeline',{'screen_name': follower})\n",
    "        if request is not None:\n",
    "            if tweets <= 10000:\n",
    "                for tweet in request:\n",
    "                    if tweet is not None:\n",
    "                        tweets += 1\n",
    "                        json.dump(tweet,f)\n",
    "                        f.write('\\n')\n",
    "                        print 'dumped tweet no %d' %(tweets)\n",
    "            else:\n",
    "                timestamp = datetime.datetime.fromtimestamp(time.time()).strftime('%Y-%m-%d %H:%M:%S')\n",
    "                newfile = 'nu_outputfile_' + timestamp + '.txt'\n",
    "                print 'calling new file name', newfile\n",
    "                print_tweets(newfile,followers_list.index(follower))\n",
    "    print 'End of collecting tweets of followers'\n",
    "        \n",
    "\n",
    "outputfile = 'nu_outputfile_'+ datetime.datetime.fromtimestamp(time.time()).strftime('%Y-%m-%d %H:%M:%S')+ '.txt'\n",
    "print_tweets(outputfile,0)\n"
   ]
  },
  {
   "cell_type": "code",
   "execution_count": null,
   "metadata": {
    "collapsed": true
   },
   "outputs": [],
   "source": []
  }
 ],
 "metadata": {
  "kernelspec": {
   "display_name": "Python 2",
   "language": "python",
   "name": "python2"
  },
  "language_info": {
   "codemirror_mode": {
    "name": "ipython",
    "version": 2
   },
   "file_extension": ".py",
   "mimetype": "text/x-python",
   "name": "python",
   "nbconvert_exporter": "python",
   "pygments_lexer": "ipython2",
   "version": "2.7.6"
  }
 },
 "nbformat": 4,
 "nbformat_minor": 0
}
