{
 "cells": [
  {
   "cell_type": "code",
   "execution_count": 2,
   "metadata": {
    "collapsed": false
   },
   "outputs": [],
   "source": [
    "from collections import Counter\n",
    "import ConfigParser\n",
    "import matplotlib.pyplot as plt\n",
    "import networkx as nx\n",
    "import sys\n",
    "import time\n",
    "from TwitterAPI import TwitterAPI\n",
    "import pickle \n",
    "import re \n",
    "from collections import defaultdict\n",
    "import datetime\n",
    "import codecs"
   ]
  },
  {
   "cell_type": "code",
   "execution_count": 3,
   "metadata": {
    "collapsed": false
   },
   "outputs": [
    {
     "name": "stdout",
     "output_type": "stream",
     "text": [
      "Established Twitter connection.\n"
     ]
    }
   ],
   "source": [
    "# This method is done for you. Make sure to put your credentials in twitter.cfg.\n",
    "def get_twitter(config_file):\n",
    "    \"\"\" Read the config_file and construct an instance of TwitterAPI.\n",
    "    Args:\n",
    "      config_file ... A config file in ConfigParser format with Twitter credentials\n",
    "    Returns:\n",
    "      An instance of TwitterAPI.\n",
    "    \"\"\"\n",
    "    config = ConfigParser.ConfigParser()\n",
    "    config.read(config_file)\n",
    "    twitter = TwitterAPI(\n",
    "                   config.get('twitter', 'consumer_key'),\n",
    "                   config.get('twitter', 'consumer_secret'),\n",
    "                   config.get('twitter', 'access_token'),\n",
    "                   config.get('twitter', 'access_token_secret'))\n",
    "    return twitter\n",
    "\n",
    "twitter = get_twitter('twitter.cfg')\n",
    "print('Established Twitter connection.')"
   ]
  },
  {
   "cell_type": "code",
   "execution_count": 4,
   "metadata": {
    "collapsed": true
   },
   "outputs": [],
   "source": [
    "def robust_request(twitter, resource, params, max_tries=5):\n",
    "    \"\"\" If a Twitter request fails, sleep for 15 minutes.\n",
    "    Do this at most max_tries times before quitting.\n",
    "    Args:\n",
    "      twitter .... A TwitterAPI object.\n",
    "      resource ... A resource string to request.\n",
    "      params ..... A parameter dictionary for the request.\n",
    "      max_tries .. The maximum number of tries to attempt.\n",
    "    Returns:\n",
    "      A TwitterResponse object, or None if failed.\n",
    "    \"\"\"\n",
    "    for i in range(max_tries):\n",
    "        request = twitter.request(resource, params)\n",
    "        if request is None:\n",
    "            print 'Found None object'\n",
    "            break\n",
    "        if request.status_code == 401:\n",
    "            print 'Unauthorized data access. The user does not have access to such information'\n",
    "            break\n",
    "#         elif \"page does not exist\" in request.text:\n",
    "#             print 'page does not exist'\n",
    "#             break\n",
    "        elif request.status_code == 200:\n",
    "            return request\n",
    "        else:\n",
    "            print >> sys.stderr, 'Got error:', request.text, '\\nsleeping for 1 minutes.'\n",
    "            sys.stderr.flush()\n",
    "            time.sleep(61 * 1)"
   ]
  },
  {
   "cell_type": "code",
   "execution_count": 5,
   "metadata": {
    "collapsed": false,
    "scrolled": true
   },
   "outputs": [],
   "source": [
    "def get_followers():\n",
    "    followers = []\n",
    "    f = open ('iit_followers.txt','rb')\n",
    "    regexp = re.compile(r'p\\d+')\n",
    "    for line in f:\n",
    "        if regexp.search(str(line)) is not None:\n",
    "            continue\n",
    "        else: \n",
    "            if line.startswith('aV'):\n",
    "                line = line[2:]\n",
    "                followers.append(line.replace(\"\\n\",\"\"))\n",
    "    followers.sort()\n",
    "    return followers\n",
    "\n",
    "followers_list = get_followers()\n",
    "#print followers_list"
   ]
  },
  {
   "cell_type": "code",
   "execution_count": 6,
   "metadata": {
    "collapsed": true
   },
   "outputs": [],
   "source": [
    "userInfo = twitter.request('users/lookup', {'screen_name': followers_list[:100]})"
   ]
  },
  {
   "cell_type": "code",
   "execution_count": 7,
   "metadata": {
    "collapsed": false,
    "scrolled": true
   },
   "outputs": [
    {
     "name": "stdout",
     "output_type": "stream",
     "text": [
      "processed 100 users...\n",
      "processed 100 users...\n",
      "processed 100 users...\n",
      "processed 100 users...\n",
      "processed 100 users...\n",
      "processed 100 users...\n",
      "processed 100 users...\n",
      "processed 100 users...\n",
      "processed 100 users...\n",
      "processed 100 users...\n",
      "processed 100 users...\n",
      "processed 100 users...\n",
      "processed 100 users...\n",
      "processed 100 users...\n",
      "processed 100 users...\n",
      "processed 100 users...\n",
      "processed 100 users...\n",
      "processed 100 users...\n",
      "processed 100 users...\n",
      "processed 100 users...\n",
      "processed 100 users...\n",
      "processed 100 users...\n",
      "processed 100 users...\n",
      "processed 100 users...\n",
      "processed 100 users...\n",
      "processed 100 users...\n",
      "processed 100 users...\n",
      "processed 100 users...\n",
      "processed 100 users...\n",
      "processed 100 users...\n",
      "processed 100 users...\n",
      "processed 100 users...\n",
      "processed 100 users...\n",
      "processed 100 users...\n",
      "processed 100 users...\n",
      "processed 100 users...\n",
      "processed 100 users...\n",
      "processed 100 users...\n",
      "processed 100 users...\n",
      "processed 100 users...\n",
      "processed 100 users...\n",
      "processed 100 users...\n",
      "processed 100 users...\n",
      "processed 100 users...\n",
      "processed 100 users...\n",
      "processed 100 users...\n",
      "processed 100 users...\n",
      "processed 100 users...\n",
      "processed 100 users...\n",
      "processed 100 users...\n",
      "processed 100 users...\n",
      "processed 100 users...\n",
      "processed 100 users...\n",
      "processed 100 users...\n",
      "processed 100 users...\n",
      "processed 100 users...\n",
      "processed 100 users...\n",
      "processed 100 users...\n",
      "processed 100 users...\n",
      "processed 100 users...\n",
      "processed 100 users...\n",
      "processed 100 users...\n",
      "processed 100 users...\n",
      "processed 100 users...\n",
      "processed 100 users...\n",
      "done\n",
      "6480\n"
     ]
    }
   ],
   "source": [
    "#get first 100 user IDs\n",
    "userIds = []\n",
    "startIndex = 0\n",
    "endIndex = 100\n",
    "while endIndex < len(followers_list):\n",
    "    userInfo = twitter.request('users/lookup', {'screen_name': followers_list[startIndex:endIndex]})\n",
    "    for user in userInfo:\n",
    "        userIds.append(user['id'])\n",
    "    startIndex += 100\n",
    "    endIndex += 100\n",
    "    print 'processed 100 users...'\n",
    "print 'done'\n",
    "print len(userIds)"
   ]
  },
  {
   "cell_type": "code",
   "execution_count": 16,
   "metadata": {
    "collapsed": false,
    "scrolled": true
   },
   "outputs": [
    {
     "name": "stdout",
     "output_type": "stream",
     "text": [
      "2885816063\n"
     ]
    }
   ],
   "source": [
    "userInfo = twitter.request('users/lookup', {'screen_name': 'hpandya2_pa'})\n",
    "for user in userInfo:\n",
    "    userIds.insert(0, user['id'])\n",
    "    print user['id']"
   ]
  },
  {
   "cell_type": "code",
   "execution_count": 8,
   "metadata": {
    "collapsed": false
   },
   "outputs": [
    {
     "name": "stdout",
     "output_type": "stream",
     "text": [
      "[2958842221, 548263433, 3228267492, 476820795, 3397863503, 3158504957, 2786277625, 454864520, 117805662, 255609739]\n",
      "3778\n"
     ]
    }
   ],
   "source": [
    "print userIds[:10]\n",
    "print followers_list.index('ceoshea773')"
   ]
  },
  {
   "cell_type": "code",
   "execution_count": null,
   "metadata": {
    "collapsed": false,
    "scrolled": false
   },
   "outputs": [
    {
     "name": "stdout",
     "output_type": "stream",
     "text": [
      "in get_users()\n",
      "starting collection!!! :)"
     ]
    }
   ],
   "source": [
    "def get_users():\n",
    "    print 'in get_users()'\n",
    "    #request = robust_request(twitter,'user', {'follow': followers_list})\n",
    "    #request = twitter.request('user', {'follow': followers_list})\n",
    "    #request2 = twitter.request('statuses/filter', {'follow':['stephenfgrove', 'stephniawang', 'sterlingeng']})\n",
    "    request = twitter.request('statuses/filter', {'follow':userIds[:5000], 'filter_level':'low'})\n",
    "    timestamp = datetime.datetime.fromtimestamp(time.time()).strftime('%Y-%m-%d %H:%M:%S')\n",
    "    newfile = 'streaming_user_tweets_' + timestamp + '.txt'\n",
    "    f = codecs.open(newfile,'a',encoding='utf8')\n",
    "    tweets = 0\n",
    "    print 'starting collection!!! :)'\n",
    "    while True:\n",
    "        try:\n",
    "            for tweet in request:\n",
    "                #print \"saved tweet %d from %s\" % (tweets, tweet['user']['name'])\n",
    "                pickle.dump(tweet,f)\n",
    "                f.write('\\n')\n",
    "                print 'dumped tweet to file'\n",
    "                print tweet['text']\n",
    "                tweets += 1\n",
    "                if tweets > 10000:\n",
    "                    tweets = 1\n",
    "                    timestamp = datetime.datetime.fromtimestamp(time.time()).strftime('%Y-%m-%d %H:%M:%S')\n",
    "                    newfile = 'streaming_user_tweets_' + timestamp + '.txt' \n",
    "        except:\n",
    "            print >> sys.stderr, 'Got error: (sleeping for 60 seconds...)', request.text\n",
    "            sys.stderr.flush()\n",
    "            time.sleep(60) \n",
    "    \n",
    "                    \n",
    "get_users()               "
   ]
  },
  {
   "cell_type": "code",
   "execution_count": null,
   "metadata": {
    "collapsed": true
   },
   "outputs": [],
   "source": []
  },
  {
   "cell_type": "code",
   "execution_count": null,
   "metadata": {
    "collapsed": true
   },
   "outputs": [],
   "source": []
  },
  {
   "cell_type": "code",
   "execution_count": null,
   "metadata": {
    "collapsed": true
   },
   "outputs": [],
   "source": []
  }
 ],
 "metadata": {
  "kernelspec": {
   "display_name": "Python 2",
   "language": "python",
   "name": "python2"
  },
  "language_info": {
   "codemirror_mode": {
    "name": "ipython",
    "version": 2
   },
   "file_extension": ".py",
   "mimetype": "text/x-python",
   "name": "python",
   "nbconvert_exporter": "python",
   "pygments_lexer": "ipython2",
   "version": "2.7.6"
  }
 },
 "nbformat": 4,
 "nbformat_minor": 0
}
